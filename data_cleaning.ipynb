{
 "cells": [
  {
   "cell_type": "code",
   "execution_count": 148,
   "metadata": {},
   "outputs": [],
   "source": [
    "import pandas as pd \n",
    "from datetime import datetime"
   ]
  },
  {
   "cell_type": "code",
   "execution_count": 149,
   "metadata": {},
   "outputs": [],
   "source": [
    "#Jobs file reading\n",
    "df = pd.read_csv('jobs.csv', index_col = 0) \n",
    "#Duplicates delete\n",
    "df.drop_duplicates(inplace=True)"
   ]
  },
  {
   "cell_type": "code",
   "execution_count": 150,
   "metadata": {},
   "outputs": [],
   "source": [
    "#Job title cleaning\n",
    "df.dropna(subset='job title', inplace=True)"
   ]
  },
  {
   "cell_type": "code",
   "execution_count": 151,
   "metadata": {},
   "outputs": [],
   "source": [
    "#Salary parsing\n",
    "df.dropna(subset=['salary estimate'], inplace=True)\n",
    "df = df[~(df['salary estimate'].str.contains('Per Hour'))]\n",
    "salary = df['salary estimate'].apply(lambda x : x.split('(')[0] if '(' in x else x.split(':')[1])\n",
    "salary = salary.apply(lambda x : x.replace('K', '').replace('$', ''))\n",
    "salary_min = salary.apply(lambda x : int(x.split('-')[0]) if '-' in str(x) else int(x))\n",
    "salary_max = salary.apply(lambda x : int(x.split('-')[1]) if '-' in str(x) else int(x))\n",
    "df['salary estimate'] = (salary_min + salary_max)/2"
   ]
  },
  {
   "cell_type": "code",
   "execution_count": 152,
   "metadata": {},
   "outputs": [],
   "source": [
    "df.dropna(subset=['location'], inplace=True)\n",
    "#Company name text only\n",
    "def is_float(x):\n",
    "    try:\n",
    "        float(x)\n",
    "        return True\n",
    "    except ValueError:\n",
    "        return False\n",
    "\n",
    "df['company'] = df['company'].apply(lambda x : str(x)[:-3] if is_float(str(x)[-3:]) else x)"
   ]
  },
  {
   "cell_type": "code",
   "execution_count": 153,
   "metadata": {},
   "outputs": [],
   "source": [
    "#State codes df\n",
    "df = df[(df['location']!= 'United States') & (df['location'] !='Pennsylvania')]\n",
    "df ['state code'] = df['location'].apply(lambda x : 'Remote' if x.lower()=='remote' else x.split(',')[-1])"
   ]
  },
  {
   "cell_type": "code",
   "execution_count": 154,
   "metadata": {},
   "outputs": [],
   "source": [
    "#Age of the company\n",
    "df['company_age'] = datetime.now().year-df['company_founded']"
   ]
  },
  {
   "cell_type": "code",
   "execution_count": 155,
   "metadata": {},
   "outputs": [],
   "source": [
    "#Job description parsing (python, java, scala, SQL, etc.)\n",
    "def set_score(tech_list):\n",
    "    for tech in tech_list:\n",
    "        df[tech] = df['job description'].apply(lambda x : 1 if tech in str(x).lower() else 0)\n",
    "\n",
    "set_score(['python', 'r', 'java', 'scala', 'r', 'sql', 'spark', 'aws', 'azure', 'airflow',\n",
    "           'snowflake', 'git'])\n"
   ]
  },
  {
   "cell_type": "code",
   "execution_count": 156,
   "metadata": {},
   "outputs": [],
   "source": [
    "#data_score = df.loc[:, 'python':'git'].agg(sum)\n",
    "df.to_csv('jobs_cleaned.csv', index=False)"
   ]
  }
 ],
 "metadata": {
  "kernelspec": {
   "display_name": "Python 3",
   "language": "python",
   "name": "python3"
  },
  "language_info": {
   "codemirror_mode": {
    "name": "ipython",
    "version": 3
   },
   "file_extension": ".py",
   "mimetype": "text/x-python",
   "name": "python",
   "nbconvert_exporter": "python",
   "pygments_lexer": "ipython3",
   "version": "3.9.7"
  },
  "orig_nbformat": 4
 },
 "nbformat": 4,
 "nbformat_minor": 2
}
